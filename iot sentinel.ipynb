{
 "cells": [
  {
   "cell_type": "code",
   "execution_count": 1,
   "id": "5c1d94b7",
   "metadata": {},
   "outputs": [],
   "source": [
    "\n",
    "import pandas as pd\n",
    "import numpy as np\n",
    "import glob, os\n",
    "import pickle"
   ]
  },
  {
   "cell_type": "code",
   "execution_count": 2,
   "id": "ac33f710",
   "metadata": {},
   "outputs": [],
   "source": [
    "\n",
    "from sklearn.model_selection import train_test_split\n",
    "from sklearn.metrics import f1_score\n",
    "from sklearn.ensemble import RandomForestClassifier\n",
    "from sklearn.metrics import accuracy_score\n",
    "from sklearn.metrics import confusion_matrix\n"
   ]
  },
  {
   "cell_type": "code",
   "execution_count": 3,
   "id": "5448bdc7",
   "metadata": {},
   "outputs": [],
   "source": [
    "#path = r'csv_full_fingerprint' \n",
    "\n",
    "def csv_filepath(path,device_label):\n",
    "    file_path=path+'/'+device_label+'/*.csv'\n",
    "    all_files = glob.glob(file_path)\n",
    "    return all_files"
   ]
  },
  {
   "cell_type": "code",
   "execution_count": 4,
   "id": "5b2fc07a",
   "metadata": {},
   "outputs": [],
   "source": [
    "def save_model(model,outputdir,device_label):\n",
    "    if not os.path.exists(outputdir):\n",
    "        os.makedirs(outputdir)\n",
    "    \n",
    "    pickle_file = outputdir+'/model_'+device_label+'.sav'\n",
    "    pickle.dump(model, open(pickle_file, 'wb'))\n",
    "    print(device_label,' model saved'+'\\n\\n')\n",
    "  "
   ]
  },
  {
   "cell_type": "code",
   "execution_count": 37,
   "id": "6de99276",
   "metadata": {},
   "outputs": [],
   "source": [
    "def combine_all_data(path,rows=12): # in iotsentinel number of packet is 12\n",
    "    device_label=os.listdir(path)\n",
    "    i=0\n",
    "    j=0\n",
    "    li = []\n",
    "    while i < len(device_label):\n",
    "        filepath = csv_filepath(path,device_label[i])\n",
    "        for filename in filepath:\n",
    "            df = pd.read_csv(filename, index_col=None,header=None, delimiter = '\\t')\n",
    "            df = df.iloc[:,:-1]      #exclude label column\n",
    "            df = df.drop_duplicates() \n",
    "            df = df[:rows]           #select n uniques row\n",
    "            \n",
    "            if df.shape[0]<rows:     #fill with 0 if row less than n\n",
    "                k = df.shape[0]\n",
    "                while k < rows:   \n",
    "                    temp = pd.DataFrame([[0 for i in range(len(df.columns))]], columns = df.columns)\n",
    "                    df = df.append(temp)\n",
    "                    k += 1\n",
    "            df.reset_index(drop = True, inplace = True)\n",
    "            \n",
    "            #combine all rows into 1\n",
    "            df=instances_combine(df,rows)\n",
    "            \n",
    "            #add label column\n",
    "            df[df.shape[1]]=device_label[i]\n",
    "            \n",
    "            li.append(df)\n",
    "            \n",
    "            j+=1\n",
    "            \n",
    "        print('combined ',device_label[i],' csv files')\n",
    "        i+=1\n",
    "    print('all ',j,' files combined')\n",
    "    frame = pd.concat(li, axis=0,ignore_index=True)\n",
    "    return frame\n",
    "        "
   ]
  },
  {
   "cell_type": "code",
   "execution_count": 6,
   "id": "ea377cc3",
   "metadata": {},
   "outputs": [],
   "source": [
    "#combine all rows into 1 instances\n",
    "def instances_combine(df, rows):\n",
    "\n",
    "    x=df.iloc[0].tolist()\n",
    "    i=1\n",
    "    \n",
    "    while i < rows:\n",
    "        y=df.iloc[i].tolist()\n",
    "        x.extend(y)\n",
    "        #print(len(x))\n",
    "        i+=1\n",
    "    ddf = pd.DataFrame(data = [x])\n",
    "    return ddf\n"
   ]
  },
  {
   "cell_type": "code",
   "execution_count": 50,
   "id": "1f9adbc8",
   "metadata": {
    "scrolled": true
   },
   "outputs": [],
   "source": [
    "\n",
    "def change_label(df,device_label='Aria'):\n",
    "\n",
    "    label_col = df.shape[1]-1\n",
    "    df[label_col] = df[label_col].where(df[label_col]==device_label,other=\"Other\")\n",
    "    return df\n",
    "\n",
    "def split_data(df):\n",
    "    last=df.shape[1]-1\n",
    "    X = df.loc[:,:last-1]\n",
    "    y = df.loc[:,last]\n",
    "    return X,y"
   ]
  },
  {
   "cell_type": "code",
   "execution_count": 52,
   "id": "37ed5aaf",
   "metadata": {},
   "outputs": [],
   "source": [
    "def get_model():\n",
    "    model = RandomForestClassifier(\n",
    "        n_estimators=50,\n",
    "        criterion='gini',\n",
    "        max_depth=5,\n",
    "        min_samples_split=2,\n",
    "        min_samples_leaf=1,\n",
    "        min_weight_fraction_leaf=0.0,\n",
    "        max_features='auto',\n",
    "        max_leaf_nodes=None,\n",
    "        min_impurity_decrease=0.0,\n",
    "        min_impurity_split=None,\n",
    "        bootstrap=True,\n",
    "        oob_score=False,\n",
    "        n_jobs=-1,\n",
    "        random_state=0,\n",
    "        verbose=0,\n",
    "        warm_start=False,\n",
    "        class_weight='balanced'\n",
    "    )\n",
    "    return model"
   ]
  },
  {
   "cell_type": "markdown",
   "id": "32d43b62",
   "metadata": {},
   "source": [
    "### Experiment IoT sentinel \n",
    "- load and combine csv file (each csv file  represent 1 fingerprint)\n",
    "- filter n unique rows , n=12\n",
    "- combine n rows into 1 instance with (n * 23) features\n",
    "- return df shape(number of fingerprint, (n * 23) features)"
   ]
  },
  {
   "cell_type": "code",
   "execution_count": 38,
   "id": "0045c7e8",
   "metadata": {
    "scrolled": true
   },
   "outputs": [
    {
     "name": "stdout",
     "output_type": "stream",
     "text": [
      "combined  Aria  csv files\n",
      "combined  D-LinkCam  csv files\n",
      "combined  D-LinkDayCam  csv files\n",
      "combined  D-LinkDoorSensor  csv files\n",
      "combined  D-LinkHomeHub  csv files\n",
      "combined  D-LinkSensor  csv files\n",
      "combined  D-LinkSiren  csv files\n",
      "combined  D-LinkSwitch  csv files\n",
      "combined  D-LinkWaterSensor  csv files\n",
      "combined  EdimaxCam1  csv files\n",
      "combined  EdimaxCam2  csv files\n",
      "combined  EdimaxPlug1101W  csv files\n",
      "combined  EdimaxPlug2101W  csv files\n",
      "combined  EdnetCam1  csv files\n",
      "combined  EdnetCam2  csv files\n",
      "combined  EdnetGateway  csv files\n",
      "combined  HomeMaticPlug  csv files\n",
      "combined  HueBridge  csv files\n",
      "combined  HueSwitch  csv files\n",
      "combined  iKettle2  csv files\n",
      "combined  Lightify  csv files\n",
      "combined  MAXGateway  csv files\n",
      "combined  SmarterCoffee  csv files\n",
      "combined  TP-LinkPlugHS100  csv files\n",
      "combined  TP-LinkPlugHS110  csv files\n",
      "combined  WeMoInsightSwitch  csv files\n",
      "combined  WeMoInsightSwitch2  csv files\n",
      "combined  WeMoLink  csv files\n",
      "combined  WeMoSwitch  csv files\n",
      "combined  WeMoSwitch2  csv files\n",
      "combined  Withings  csv files\n",
      "all  550  files combined\n"
     ]
    }
   ],
   "source": [
    "inputdir = r'csv_full_fingerprint'\n",
    "full_df = combine_all_data(inputdir,rows=12)"
   ]
  },
  {
   "cell_type": "code",
   "execution_count": 41,
   "id": "17cd1cae",
   "metadata": {
    "scrolled": true
   },
   "outputs": [
    {
     "name": "stdout",
     "output_type": "stream",
     "text": [
      "(550, 277)\n",
      "31  IoT devices\n",
      "['Aria' 'D-LinkCam' 'D-LinkDayCam' 'D-LinkDoorSensor' 'D-LinkHomeHub'\n",
      " 'D-LinkSensor' 'D-LinkSiren' 'D-LinkSwitch' 'D-LinkWaterSensor'\n",
      " 'EdimaxCam1' 'EdimaxCam2' 'EdimaxPlug1101W' 'EdimaxPlug2101W' 'EdnetCam1'\n",
      " 'EdnetCam2' 'EdnetGateway' 'HomeMaticPlug' 'HueBridge' 'HueSwitch'\n",
      " 'iKettle2' 'Lightify' 'MAXGateway' 'SmarterCoffee' 'TP-LinkPlugHS100'\n",
      " 'TP-LinkPlugHS110' 'WeMoInsightSwitch' 'WeMoInsightSwitch2' 'WeMoLink'\n",
      " 'WeMoSwitch' 'WeMoSwitch2' 'Withings']\n"
     ]
    }
   ],
   "source": [
    "#full dataset info\n",
    "print(full_df.shape)\n",
    "print(len(full_df[full_df.shape[1]-1].unique()),\" IoT devices\")\n",
    "print(full_df[276].unique())\n",
    "#full_df.head(2)\n",
    "\n"
   ]
  },
  {
   "cell_type": "code",
   "execution_count": 42,
   "id": "2d696e6f",
   "metadata": {},
   "outputs": [],
   "source": [
    "#save full_df to csv\n",
    "full_df.to_csv(r'dataset.csv', index=False, header=False)"
   ]
  },
  {
   "cell_type": "code",
   "execution_count": 51,
   "id": "3a2cb33e",
   "metadata": {
    "scrolled": true
   },
   "outputs": [
    {
     "name": "stdout",
     "output_type": "stream",
     "text": [
      "Accuracy for  Aria : 0.964 (0.103)\n",
      "Accuracy for  D-LinkCam : 0.989 (0.015)\n",
      "Accuracy for  D-LinkDayCam : 0.975 (0.059)\n",
      "Accuracy for  D-LinkDoorSensor : 1.000 (0.000)\n",
      "Accuracy for  D-LinkHomeHub : 0.991 (0.015)\n",
      "Accuracy for  D-LinkSensor : 0.944 (0.110)\n",
      "Accuracy for  D-LinkSiren : 0.920 (0.204)\n",
      "Accuracy for  D-LinkSwitch : 0.944 (0.145)\n",
      "Accuracy for  D-LinkWaterSensor : 0.915 (0.226)\n",
      "Accuracy for  EdimaxCam1 : 0.985 (0.021)\n"
     ]
    },
    {
     "name": "stderr",
     "output_type": "stream",
     "text": [
      "C:\\Users\\onewa\\.conda\\envs\\test-env\\lib\\site-packages\\sklearn\\model_selection\\_split.py:666: UserWarning: The least populated class in y has only 8 members, which is less than n_splits=10.\n",
      "  warnings.warn((\"The least populated class in y has only %d\"\n"
     ]
    },
    {
     "name": "stdout",
     "output_type": "stream",
     "text": [
      "Accuracy for  EdimaxCam2 : 0.976 (0.042)\n",
      "Accuracy for  EdimaxPlug1101W : 0.967 (0.053)\n",
      "Accuracy for  EdimaxPlug2101W : 0.964 (0.069)\n",
      "Accuracy for  EdnetCam1 : 0.980 (0.043)\n"
     ]
    },
    {
     "name": "stderr",
     "output_type": "stream",
     "text": [
      "C:\\Users\\onewa\\.conda\\envs\\test-env\\lib\\site-packages\\sklearn\\model_selection\\_split.py:666: UserWarning: The least populated class in y has only 9 members, which is less than n_splits=10.\n",
      "  warnings.warn((\"The least populated class in y has only %d\"\n"
     ]
    },
    {
     "name": "stdout",
     "output_type": "stream",
     "text": [
      "Accuracy for  EdnetCam2 : 0.973 (0.056)\n",
      "Accuracy for  EdnetGateway : 0.995 (0.008)\n",
      "Accuracy for  HomeMaticPlug : 0.996 (0.007)\n",
      "Accuracy for  HueBridge : 0.985 (0.016)\n",
      "Accuracy for  HueSwitch : 1.000 (0.000)\n",
      "Accuracy for  iKettle2 : 0.945 (0.114)\n",
      "Accuracy for  Lightify : 0.996 (0.007)\n",
      "Accuracy for  MAXGateway : 0.998 (0.005)\n",
      "Accuracy for  SmarterCoffee : 0.953 (0.110)\n",
      "Accuracy for  TP-LinkPlugHS100 : 0.947 (0.075)\n",
      "Accuracy for  TP-LinkPlugHS110 : 0.975 (0.055)\n",
      "Accuracy for  WeMoInsightSwitch : 0.993 (0.009)\n"
     ]
    },
    {
     "name": "stderr",
     "output_type": "stream",
     "text": [
      "C:\\Users\\onewa\\.conda\\envs\\test-env\\lib\\site-packages\\sklearn\\model_selection\\_split.py:666: UserWarning: The least populated class in y has only 5 members, which is less than n_splits=10.\n",
      "  warnings.warn((\"The least populated class in y has only %d\"\n"
     ]
    },
    {
     "name": "stdout",
     "output_type": "stream",
     "text": [
      "Accuracy for  WeMoInsightSwitch2 : 0.996 (0.007)\n",
      "Accuracy for  WeMoLink : 0.967 (0.081)\n",
      "Accuracy for  WeMoSwitch : 0.996 (0.007)\n"
     ]
    },
    {
     "name": "stderr",
     "output_type": "stream",
     "text": [
      "C:\\Users\\onewa\\.conda\\envs\\test-env\\lib\\site-packages\\sklearn\\model_selection\\_split.py:666: UserWarning: The least populated class in y has only 5 members, which is less than n_splits=10.\n",
      "  warnings.warn((\"The least populated class in y has only %d\"\n"
     ]
    },
    {
     "name": "stdout",
     "output_type": "stream",
     "text": [
      "Accuracy for  WeMoSwitch2 : 1.000 (0.000)\n",
      "Accuracy for  Withings : 0.964 (0.103)\n"
     ]
    }
   ],
   "source": [
    "from numpy import mean\n",
    "from numpy import std\n",
    "from sklearn.model_selection import StratifiedKFold\n",
    "from sklearn.model_selection import cross_val_score\n",
    "\n",
    "\n",
    "inputdir = r'csv_full_fingerprint'\n",
    "\n",
    "# load dataset\n",
    "df = pd.read_csv(r'dataset.csv',header=None)\n",
    "\n",
    "device_label=os.listdir(inputdir)\n",
    "\n",
    "i=0\n",
    "while i < len(device_label):\n",
    "    # change label for others (device,others)\n",
    "    df= change_label(df,device_label[i])\n",
    "    X, y =split_data(df)\n",
    "    # prepare the cross-validation procedure\n",
    "    cv = StratifiedKFold(n_splits=10)\n",
    "    # create model\n",
    "    model = get_model()\n",
    "    # evaluate model\n",
    "    scores = cross_val_score(model, X, y, scoring='accuracy', cv=cv, n_jobs=-1)\n",
    "    # report performance\n",
    "    print('Accuracy for ',device_label[i],': %.3f (%.3f)' % (mean(scores), std(scores)))\n",
    "    i += 1\n",
    "    if i<len(device_label):\n",
    "        df = pd.read_csv(r'dataset.csv',header=None)"
   ]
  },
  {
   "cell_type": "markdown",
   "id": "4f7a9a6e",
   "metadata": {},
   "source": [
    "### Train for each device\n",
    "- use all data"
   ]
  },
  {
   "cell_type": "code",
   "execution_count": 53,
   "id": "1da8f1a3",
   "metadata": {
    "scrolled": true
   },
   "outputs": [
    {
     "name": "stdout",
     "output_type": "stream",
     "text": [
      "Device: Aria\n",
      "\n",
      "\n",
      "Aria  model saved\n",
      "\n",
      "\n",
      "Device: D-LinkCam\n",
      "\n",
      "\n",
      "D-LinkCam  model saved\n",
      "\n",
      "\n",
      "Device: D-LinkDayCam\n",
      "\n",
      "\n",
      "D-LinkDayCam  model saved\n",
      "\n",
      "\n",
      "Device: D-LinkDoorSensor\n",
      "\n",
      "\n",
      "D-LinkDoorSensor  model saved\n",
      "\n",
      "\n",
      "Device: D-LinkHomeHub\n",
      "\n",
      "\n",
      "D-LinkHomeHub  model saved\n",
      "\n",
      "\n",
      "Device: D-LinkSensor\n",
      "\n",
      "\n",
      "D-LinkSensor  model saved\n",
      "\n",
      "\n",
      "Device: D-LinkSiren\n",
      "\n",
      "\n",
      "D-LinkSiren  model saved\n",
      "\n",
      "\n",
      "Device: D-LinkSwitch\n",
      "\n",
      "\n",
      "D-LinkSwitch  model saved\n",
      "\n",
      "\n",
      "Device: D-LinkWaterSensor\n",
      "\n",
      "\n",
      "D-LinkWaterSensor  model saved\n",
      "\n",
      "\n",
      "Device: EdimaxCam1\n",
      "\n",
      "\n",
      "EdimaxCam1  model saved\n",
      "\n",
      "\n",
      "Device: EdimaxCam2\n",
      "\n",
      "\n",
      "EdimaxCam2  model saved\n",
      "\n",
      "\n",
      "Device: EdimaxPlug1101W\n",
      "\n",
      "\n",
      "EdimaxPlug1101W  model saved\n",
      "\n",
      "\n",
      "Device: EdimaxPlug2101W\n",
      "\n",
      "\n",
      "EdimaxPlug2101W  model saved\n",
      "\n",
      "\n",
      "Device: EdnetCam1\n",
      "\n",
      "\n",
      "EdnetCam1  model saved\n",
      "\n",
      "\n",
      "Device: EdnetCam2\n",
      "\n",
      "\n",
      "EdnetCam2  model saved\n",
      "\n",
      "\n",
      "Device: EdnetGateway\n",
      "\n",
      "\n",
      "EdnetGateway  model saved\n",
      "\n",
      "\n",
      "Device: HomeMaticPlug\n",
      "\n",
      "\n",
      "HomeMaticPlug  model saved\n",
      "\n",
      "\n",
      "Device: HueBridge\n",
      "\n",
      "\n",
      "HueBridge  model saved\n",
      "\n",
      "\n",
      "Device: HueSwitch\n",
      "\n",
      "\n",
      "HueSwitch  model saved\n",
      "\n",
      "\n",
      "Device: iKettle2\n",
      "\n",
      "\n",
      "iKettle2  model saved\n",
      "\n",
      "\n",
      "Device: Lightify\n",
      "\n",
      "\n",
      "Lightify  model saved\n",
      "\n",
      "\n",
      "Device: MAXGateway\n",
      "\n",
      "\n",
      "MAXGateway  model saved\n",
      "\n",
      "\n",
      "Device: SmarterCoffee\n",
      "\n",
      "\n",
      "SmarterCoffee  model saved\n",
      "\n",
      "\n",
      "Device: TP-LinkPlugHS100\n",
      "\n",
      "\n",
      "TP-LinkPlugHS100  model saved\n",
      "\n",
      "\n",
      "Device: TP-LinkPlugHS110\n",
      "\n",
      "\n",
      "TP-LinkPlugHS110  model saved\n",
      "\n",
      "\n",
      "Device: WeMoInsightSwitch\n",
      "\n",
      "\n",
      "WeMoInsightSwitch  model saved\n",
      "\n",
      "\n",
      "Device: WeMoInsightSwitch2\n",
      "\n",
      "\n",
      "WeMoInsightSwitch2  model saved\n",
      "\n",
      "\n",
      "Device: WeMoLink\n",
      "\n",
      "\n",
      "WeMoLink  model saved\n",
      "\n",
      "\n",
      "Device: WeMoSwitch\n",
      "\n",
      "\n",
      "WeMoSwitch  model saved\n",
      "\n",
      "\n",
      "Device: WeMoSwitch2\n",
      "\n",
      "\n",
      "WeMoSwitch2  model saved\n",
      "\n",
      "\n",
      "Device: Withings\n",
      "\n",
      "\n",
      "Withings  model saved\n",
      "\n",
      "\n"
     ]
    }
   ],
   "source": [
    "# train rf model for each device\n",
    "\n",
    "inputdir = r'csv_full_fingerprint'\n",
    "outputdir = 'classification_models'\n",
    "device_label=os.listdir(inputdir)\n",
    "\n",
    "df = pd.read_csv(r'dataset.csv',header=None)\n",
    "i=0\n",
    "while i < len(device_label):\n",
    "\n",
    "    #path = csv_filepath(inputdir,device_label[i])\n",
    "   \n",
    "    print('Device: '+device_label[i]+'\\n\\n')\n",
    "\n",
    "    df= change_label(df,device_label[i])\n",
    "    X, y =split_data(df)\n",
    "\n",
    "    # define outlier detection model\n",
    "    model = get_model()\n",
    "    \n",
    "    # fit on all data\n",
    "    model.fit(X,y)\n",
    "\n",
    "    # save model\n",
    "    save_model(model,outputdir,device_label[i])\n",
    "\n",
    "    i += 1\n",
    "\n",
    "    if i<len(device_label):\n",
    "        df = pd.read_csv(r'dataset.csv',header=None)\n",
    "\n"
   ]
  },
  {
   "cell_type": "markdown",
   "id": "20910c2f",
   "metadata": {},
   "source": [
    "## Device classificaiton\n",
    "#### predict with other data/device"
   ]
  },
  {
   "cell_type": "code",
   "execution_count": 10,
   "id": "c465214b",
   "metadata": {},
   "outputs": [],
   "source": [
    "def sav_filepath(path):\n",
    "    filepath=path+'/*.sav'\n",
    "    all_files = glob.glob(filepath)\n",
    "    return all_files"
   ]
  },
  {
   "cell_type": "code",
   "execution_count": 93,
   "id": "b6f0bcc8",
   "metadata": {
    "scrolled": false
   },
   "outputs": [
    {
     "name": "stdout",
     "output_type": "stream",
     "text": [
      "['classification_models\\\\model_Aria.sav', 'classification_models\\\\model_D-LinkCam.sav', 'classification_models\\\\model_D-LinkDayCam.sav', 'classification_models\\\\model_D-LinkDoorSensor.sav', 'classification_models\\\\model_D-LinkHomeHub.sav', 'classification_models\\\\model_D-LinkSensor.sav', 'classification_models\\\\model_D-LinkSiren.sav', 'classification_models\\\\model_D-LinkSwitch.sav', 'classification_models\\\\model_D-LinkWaterSensor.sav', 'classification_models\\\\model_EdimaxCam1.sav', 'classification_models\\\\model_EdimaxCam2.sav', 'classification_models\\\\model_EdimaxPlug1101W.sav', 'classification_models\\\\model_EdimaxPlug2101W.sav', 'classification_models\\\\model_EdnetCam1.sav', 'classification_models\\\\model_EdnetCam2.sav', 'classification_models\\\\model_EdnetGateway.sav', 'classification_models\\\\model_HomeMaticPlug.sav', 'classification_models\\\\model_HueBridge.sav', 'classification_models\\\\model_HueSwitch.sav', 'classification_models\\\\model_iKettle2.sav', 'classification_models\\\\model_Lightify.sav', 'classification_models\\\\model_MAXGateway.sav', 'classification_models\\\\model_SmarterCoffee.sav', 'classification_models\\\\model_TP-LinkPlugHS100.sav', 'classification_models\\\\model_TP-LinkPlugHS110.sav', 'classification_models\\\\model_WeMoInsightSwitch.sav', 'classification_models\\\\model_WeMoInsightSwitch2.sav', 'classification_models\\\\model_WeMoLink.sav', 'classification_models\\\\model_WeMoSwitch.sav', 'classification_models\\\\model_WeMoSwitch2.sav', 'classification_models\\\\model_Withings.sav']\n"
     ]
    }
   ],
   "source": [
    "filename = 'classification_models'\n",
    "print(sav_filepath(filename))"
   ]
  },
  {
   "cell_type": "code",
   "execution_count": 78,
   "id": "938ce8da",
   "metadata": {
    "scrolled": false
   },
   "outputs": [],
   "source": [
    "filename = 'classification_models/model_Aria.sav'\n",
    "#load model\n",
    "model = pickle.load(open(filename, 'rb'))\n",
    "# detect outliers in the test set\n",
    "yhat = model.predict(testX)"
   ]
  },
  {
   "cell_type": "code",
   "execution_count": 11,
   "id": "8a8580ae",
   "metadata": {},
   "outputs": [],
   "source": [
    "# performance measures\n",
    "def performances(testy,yhat):\n",
    "    score = f1_score(testy, yhat,pos_label=-1)\n",
    "    acc= accuracy_score(testy,yhat)\n",
    "    print('F1 Score: %.6f' % score)\n",
    "    print('Accuracy Score: %.3f'% acc)\n",
    "    print('Confusion matrix:')\n",
    "    confusion_matrix(testy,yhat)"
   ]
  },
  {
   "cell_type": "code",
   "execution_count": 10,
   "id": "ce30d0bd",
   "metadata": {
    "scrolled": true
   },
   "outputs": [],
   "source": [
    "# mark inliers to 1 for testing\n",
    "def label_inliers(label,y):\n",
    "    \n",
    "    y[y[:].isin([label])] = 1\n",
    "    y[y[:].isin(['Other'])] = 0\n",
    "    #y =y.astype('int64')\n",
    "    return y"
   ]
  },
  {
   "cell_type": "markdown",
   "id": "bbc5f9d2",
   "metadata": {},
   "source": [
    "## Recursive feature elimination with cross-validation"
   ]
  },
  {
   "cell_type": "code",
   "execution_count": 20,
   "id": "91798ca2",
   "metadata": {
    "scrolled": true
   },
   "outputs": [
    {
     "name": "stdout",
     "output_type": "stream",
     "text": [
      "Optimal number of features : 3\n"
     ]
    },
    {
     "data": {
      "image/png": "[encoded data removed]",
      "text/plain": [
       "<Figure size 432x288 with 1 Axes>"
      ]
     },
     "metadata": {
      "needs_background": "light"
     },
     "output_type": "display_data"
    }
   ],
   "source": [
    "import matplotlib.pyplot as plt\n",
    "from sklearn.svm import SVC\n",
    "from sklearn.model_selection import StratifiedKFold\n",
    "from sklearn.feature_selection import RFECV\n",
    "from sklearn.datasets import make_classification\n",
    "\n",
    "# Build a classification task using 3 informative features\n",
    "X, y =split_data(df)\n",
    "\n",
    "# Create the RFE object and compute a cross-validated score.\n",
    "svc = SVC(kernel=\"linear\")\n",
    "# The \"accuracy\" scoring is proportional to the number of correct\n",
    "# classifications\n",
    "\n",
    "min_features_to_select = 1  # Minimum number of features to consider\n",
    "rfecv = RFECV(estimator=svc, step=1, cv=StratifiedKFold(2),\n",
    "              scoring='accuracy',\n",
    "              min_features_to_select=min_features_to_select)\n",
    "rfecv.fit(X, y)\n",
    "\n",
    "print(\"Optimal number of features : %d\" % rfecv.n_features_)\n",
    "\n",
    "# Plot number of features VS. cross-validation scores\n",
    "plt.figure()\n",
    "plt.xlabel(\"Number of features selected\")\n",
    "plt.ylabel(\"Cross validation score (nb of correct classifications)\")\n",
    "plt.plot(range(min_features_to_select,\n",
    "               len(rfecv.grid_scores_) + min_features_to_select),\n",
    "         rfecv.grid_scores_)\n",
    "plt.show()"
   ]
  },
  {
   "cell_type": "markdown",
   "id": "9ddd4d0f",
   "metadata": {},
   "source": [
    "### Feature importance"
   ]
  },
  {
   "cell_type": "code",
   "execution_count": 57,
   "id": "1e1613fc",
   "metadata": {},
   "outputs": [
    {
     "data": {
      "text/plain": [
       "RandomForestClassifier(class_weight='balanced', max_depth=5, n_estimators=50,\n",
       "                       n_jobs=-1, random_state=0)"
      ]
     },
     "execution_count": 57,
     "metadata": {},
     "output_type": "execute_result"
    }
   ],
   "source": [
    "df = pd.read_csv(r'dataset.csv',header=None)\n",
    "df= change_label(df,'Aria')\n",
    "\n",
    "X, y =split_data(df)\n",
    "X_train, X_test, y_train, y_test = train_test_split(\n",
    "    X, y, stratify=y, random_state=42)\n",
    "\n",
    "feature_names = [f'feature {i}' for i in range(X.shape[1])]\n",
    "\n",
    "forest = get_model()\n",
    "forest.fit(X_train, y_train)"
   ]
  },
  {
   "cell_type": "code",
   "execution_count": 58,
   "id": "3f3259bd",
   "metadata": {},
   "outputs": [
    {
     "name": "stdout",
     "output_type": "stream",
     "text": [
      "Elapsed time to compute the importances: 0.017 seconds\n"
     ]
    }
   ],
   "source": [
    "import time\n",
    "import numpy as np\n",
    "\n",
    "start_time = time.time()\n",
    "importances = forest.feature_importances_\n",
    "std = np.std([\n",
    "    tree.feature_importances_ for tree in forest.estimators_], axis=0)\n",
    "elapsed_time = time.time() - start_time\n",
    "\n",
    "print(f\"Elapsed time to compute the importances: \"\n",
    "      f\"{elapsed_time:.3f} seconds\")"
   ]
  },
  {
   "cell_type": "code",
   "execution_count": 65,
   "id": "a48d9065",
   "metadata": {},
   "outputs": [
    {
     "data": {
      "image/png": "[encoded data removed]",
      "text/plain": [
       "<Figure size 2160x360 with 1 Axes>"
      ]
     },
     "metadata": {
      "needs_background": "light"
     },
     "output_type": "display_data"
    }
   ],
   "source": [
    "import pandas as pd\n",
    "import matplotlib.pyplot as plt\n",
    "import matplotlib\n",
    "%matplotlib inline\n",
    "#matplotlib.rcParams.update({'font.size': 20})\n",
    "plt.rcParams[\"figure.figsize\"] = (30,5)\n",
    "forest_importances = pd.Series(importances, index=feature_names)\n",
    "\n",
    "fig, ax = plt.subplots()\n",
    "forest_importances.plot.bar(yerr=std, ax=ax)\n",
    "ax.set_title(\"Feature importances using MDI\")\n",
    "ax.set_ylabel(\"Mean decrease in impurity\")\n",
    "fig.tight_layout()"
   ]
  },
  {
   "cell_type": "code",
   "execution_count": 82,
   "id": "967d7016",
   "metadata": {
    "scrolled": true
   },
   "outputs": [
    {
     "data": {
      "text/plain": [
       "feature 246    0.071235\n",
       "feature 125    0.070422\n",
       "feature 223    0.061274\n",
       "feature 147    0.060547\n",
       "feature 177    0.060226\n",
       "feature 269    0.041976\n",
       "feature 154    0.040992\n",
       "feature 216    0.038986\n",
       "feature 171    0.034260\n",
       "feature 135    0.034079\n",
       "feature 174    0.032694\n",
       "feature 83     0.031266\n",
       "feature 200    0.030008\n",
       "feature 220    0.029823\n",
       "feature 101    0.028149\n",
       "feature 70     0.028123\n",
       "feature 234    0.025286\n",
       "feature 193    0.022948\n",
       "dtype: float64"
      ]
     },
     "execution_count": 82,
     "metadata": {},
     "output_type": "execute_result"
    }
   ],
   "source": [
    "forest_importances[forest_importances >0.02].sort_values(ascending=False) "
   ]
  },
  {
   "cell_type": "code",
   "execution_count": 107,
   "id": "e6ee5980",
   "metadata": {},
   "outputs": [],
   "source": [
    "headers_name=['Time_delta','ARP','LLC','EAPOL','Pck_size','Pck_rawdata','IP_padding','IP_ralert','IP_add_count','Portcl_src','Portcl_dst','ICMP','ICMP6','TCP','UDP','HTTPS','HTTP','DHCP','BOOTP','SSDP','DNS','MDNS','NTP','Label'] \n"
   ]
  },
  {
   "cell_type": "code",
   "execution_count": 106,
   "id": "320f724a",
   "metadata": {},
   "outputs": [
    {
     "name": "stdout",
     "output_type": "stream",
     "text": [
      "[16, 10, 16, 9, 16, 16, 16, 9, 10, 20, 13, 14, 16, 13, 9, 1, 4, 9]\n",
      "[ 1  4  9 10 13 14 16 20]\n",
      "ARP\n",
      "Pck_size\n",
      "Portcl_src\n",
      "Portcl_dst\n",
      "TCP\n",
      "UDP\n",
      "HTTP\n",
      "DNS\n"
     ]
    }
   ],
   "source": [
    "ft = [246,125,223,147,177,269,154,216,171,135,174,83,200,220,101,70,234,193]\n",
    "ftr=[]\n",
    "for i in ft:\n",
    "    ftr.append(i%23)\n",
    "    \n",
    "print(ftr)\n",
    "topft=np.unique(ftr)\n",
    "print(topft)\n",
    "for i in topft:\n",
    "    print(headers_name[i])"
   ]
  }
 ],
 "metadata": {
  "interpreter": {
   "hash": "11aad6a9416e2aac269375b757cd15f5d0ad250d383ef7779c0eb4fe269af02a"
  },
  "kernelspec": {
   "display_name": "Python 3",
   "language": "python",
   "name": "python3"
  },
  "language_info": {
   "codemirror_mode": {
    "name": "ipython",
    "version": 3
   },
   "file_extension": ".py",
   "mimetype": "text/x-python",
   "name": "python",
   "nbconvert_exporter": "python",
   "pygments_lexer": "ipython3",
   "version": "3.9.5"
  }
 },
 "nbformat": 4,
 "nbformat_minor": 5
}
